{
  "nbformat": 4,
  "nbformat_minor": 0,
  "metadata": {
    "colab": {
      "provenance": []
    },
    "kernelspec": {
      "name": "python3",
      "display_name": "Python 3"
    },
    "language_info": {
      "name": "python"
    }
  },
  "cells": [
    {
      "cell_type": "code",
      "execution_count": 68,
      "metadata": {
        "id": "Z23BsINzQ_qx"
      },
      "outputs": [],
      "source": [
        "import numpy as np\n",
        "import pandas as pd\n",
        "from sklearn.model_selection import train_test_split, GridSearchCV, RandomizedSearchCV\n",
        "from sklearn.preprocessing import StandardScaler\n",
        "from sklearn.metrics import accuracy_score, classification_report, silhouette_score\n",
        "from sklearn.svm import SVC\n",
        "from sklearn.ensemble import RandomForestClassifier\n",
        "from sklearn.tree import DecisionTreeClassifier\n",
        "from sklearn.linear_model import LogisticRegression\n",
        "from sklearn.cluster import KMeans, AgglomerativeClustering\n",
        "from scipy.cluster.hierarchy import dendrogram, linkage\n",
        "import matplotlib.pyplot as plt\n",
        "import time"
      ]
    },
    {
      "cell_type": "code",
      "source": [
        "data = pd.read_csv(r\"/content/reduced_dataset3.csv\")"
      ],
      "metadata": {
        "id": "_KGcnpbFUdyy"
      },
      "execution_count": 69,
      "outputs": []
    },
    {
      "cell_type": "code",
      "source": [
        "X = data.drop('num',axis=1)\n",
        "y = data['num']"
      ],
      "metadata": {
        "id": "6sVUWfC2UtqD"
      },
      "execution_count": 70,
      "outputs": []
    },
    {
      "cell_type": "code",
      "source": [
        "# Split data for supervised learning\n",
        "X_train, X_test, y_train, y_test = train_test_split(X, y, test_size=0.3, random_state=42)"
      ],
      "metadata": {
        "id": "CCy9m4YqUtWg"
      },
      "execution_count": 71,
      "outputs": []
    },
    {
      "cell_type": "code",
      "source": [
        "# Scale data (important for SVM and K-Means)\n",
        "scaler = StandardScaler()\n",
        "X_train_scaled = scaler.fit_transform(X_train)\n",
        "X_test_scaled = scaler.transform(X_test)\n",
        "X_scaled = scaler.fit_transform(X)"
      ],
      "metadata": {
        "id": "KcFZo1ycUtSC"
      },
      "execution_count": 72,
      "outputs": []
    },
    {
      "cell_type": "markdown",
      "source": [
        "# Function to evaluate models"
      ],
      "metadata": {
        "id": "2wm1nSD0ZSuR"
      }
    },
    {
      "cell_type": "code",
      "source": [
        "def evaluate_model(model, X_train, X_test, y_train, y_test):\n",
        "    model.fit(X_train, y_train)\n",
        "    y_pred = model.predict(X_test)\n",
        "    accuracy = accuracy_score(y_test, y_pred)\n",
        "    print(f\"Accuracy: {accuracy:.4f}\")\n",
        "    print(classification_report(y_test, y_pred))\n",
        "    return accuracy"
      ],
      "metadata": {
        "id": "duC6OfmlUtQr"
      },
      "execution_count": 73,
      "outputs": []
    },
    {
      "cell_type": "markdown",
      "source": [
        "# Function to perform hyperparameter tuning"
      ],
      "metadata": {
        "id": "n1IvXkLBZcXQ"
      }
    },
    {
      "cell_type": "code",
      "source": [
        "def tune_model(model, param_grid, X_train, y_train, search_type='grid'):\n",
        "    start_time = time.time()\n",
        "\n",
        "    if search_type == 'grid':\n",
        "        search = GridSearchCV(model, param_grid, cv=5, scoring='accuracy', n_jobs=-1)\n",
        "    else:\n",
        "        search = RandomizedSearchCV(model, param_grid, cv=5, scoring='accuracy', n_iter=100 , n_jobs=-1)\n",
        "    search.fit(X_train, y_train)\n",
        "\n",
        "    print(f\"Best parameters: {search.best_params_}\")\n",
        "    print(f\"Best cross-validation score: {search.best_score_:.4f}\")\n",
        "    print(f\"Time taken: {time.time() - start_time:.2f} seconds\")\n",
        "\n",
        "    return search.best_estimator_"
      ],
      "metadata": {
        "id": "FRCnaCqKVOZE"
      },
      "execution_count": 74,
      "outputs": []
    },
    {
      "cell_type": "markdown",
      "source": [
        "# 1. Baseline Models (Supervised)"
      ],
      "metadata": {
        "id": "aoOEHJfzZiGz"
      }
    },
    {
      "cell_type": "code",
      "source": [
        "models = {\n",
        "    \"SVM\": SVC(),\n",
        "    \"Random Forest\": RandomForestClassifier(),\n",
        "    \"Decision Tree\": DecisionTreeClassifier(),\n",
        "    \"Logistic Regression\": LogisticRegression(max_iter=1000)\n",
        "}\n",
        "\n",
        "baseline_results = {}\n",
        "for name, model in models.items():\n",
        "    print(f\"\\n{name} Baseline:\")\n",
        "    if name in ['SVM']:  # Models that need scaling\n",
        "        acc = evaluate_model(model, X_train_scaled, X_test_scaled, y_train, y_test)\n",
        "    else:\n",
        "        acc = evaluate_model(model, X_train, X_test, y_train, y_test)\n",
        "    baseline_results[name] = acc\n"
      ],
      "metadata": {
        "colab": {
          "base_uri": "https://localhost:8080/"
        },
        "collapsed": true,
        "id": "KrXTDBk2VOUp",
        "outputId": "ead942d7-8786-4657-d6dc-0cf0b95e314c"
      },
      "execution_count": 75,
      "outputs": [
        {
          "output_type": "stream",
          "name": "stdout",
          "text": [
            "\n",
            "SVM Baseline:\n",
            "Accuracy: 0.5889\n",
            "              precision    recall  f1-score   support\n",
            "\n",
            "           0       0.69      0.98      0.81        49\n",
            "           1       0.17      0.12      0.14        17\n",
            "           2       0.40      0.20      0.27        10\n",
            "           3       0.33      0.09      0.14        11\n",
            "           4       0.00      0.00      0.00         3\n",
            "\n",
            "    accuracy                           0.59        90\n",
            "   macro avg       0.32      0.28      0.27        90\n",
            "weighted avg       0.49      0.59      0.51        90\n",
            "\n",
            "\n",
            "Random Forest Baseline:\n"
          ]
        },
        {
          "output_type": "stream",
          "name": "stderr",
          "text": [
            "/usr/local/lib/python3.11/dist-packages/sklearn/metrics/_classification.py:1565: UndefinedMetricWarning: Precision is ill-defined and being set to 0.0 in labels with no predicted samples. Use `zero_division` parameter to control this behavior.\n",
            "  _warn_prf(average, modifier, f\"{metric.capitalize()} is\", len(result))\n",
            "/usr/local/lib/python3.11/dist-packages/sklearn/metrics/_classification.py:1565: UndefinedMetricWarning: Precision is ill-defined and being set to 0.0 in labels with no predicted samples. Use `zero_division` parameter to control this behavior.\n",
            "  _warn_prf(average, modifier, f\"{metric.capitalize()} is\", len(result))\n",
            "/usr/local/lib/python3.11/dist-packages/sklearn/metrics/_classification.py:1565: UndefinedMetricWarning: Precision is ill-defined and being set to 0.0 in labels with no predicted samples. Use `zero_division` parameter to control this behavior.\n",
            "  _warn_prf(average, modifier, f\"{metric.capitalize()} is\", len(result))\n"
          ]
        },
        {
          "output_type": "stream",
          "name": "stdout",
          "text": [
            "Accuracy: 0.5444\n",
            "              precision    recall  f1-score   support\n",
            "\n",
            "           0       0.75      0.90      0.81        49\n",
            "           1       0.00      0.00      0.00        17\n",
            "           2       0.30      0.30      0.30        10\n",
            "           3       0.20      0.18      0.19        11\n",
            "           4       0.00      0.00      0.00         3\n",
            "\n",
            "    accuracy                           0.54        90\n",
            "   macro avg       0.25      0.28      0.26        90\n",
            "weighted avg       0.46      0.54      0.50        90\n",
            "\n",
            "\n",
            "Decision Tree Baseline:\n",
            "Accuracy: 0.4556\n",
            "              precision    recall  f1-score   support\n",
            "\n",
            "           0       0.75      0.73      0.74        49\n",
            "           1       0.05      0.06      0.06        17\n",
            "           2       0.38      0.30      0.33        10\n",
            "           3       0.11      0.09      0.10        11\n",
            "           4       0.00      0.00      0.00         3\n",
            "\n",
            "    accuracy                           0.46        90\n",
            "   macro avg       0.26      0.24      0.25        90\n",
            "weighted avg       0.47      0.46      0.46        90\n",
            "\n",
            "\n",
            "Logistic Regression Baseline:\n",
            "Accuracy: 0.6444\n",
            "              precision    recall  f1-score   support\n",
            "\n",
            "           0       0.78      0.96      0.86        49\n",
            "           1       0.33      0.18      0.23        17\n",
            "           2       0.33      0.20      0.25        10\n",
            "           3       0.55      0.55      0.55        11\n",
            "           4       0.00      0.00      0.00         3\n",
            "\n",
            "    accuracy                           0.64        90\n",
            "   macro avg       0.40      0.38      0.38        90\n",
            "weighted avg       0.59      0.64      0.61        90\n",
            "\n"
          ]
        }
      ]
    },
    {
      "cell_type": "markdown",
      "source": [
        "# SVM"
      ],
      "metadata": {
        "id": "J1pxT52pZrHs"
      }
    },
    {
      "cell_type": "code",
      "source": [
        "svm_param_grid = {\n",
        "    'C': [0.1, 1, 10, 100],\n",
        "    'gamma': [1, 0.1, 0.01, 0.001],\n",
        "    'kernel': ['rbf', 'linear', 'poly']\n",
        "}\n",
        "best_svm = tune_model(SVC(), svm_param_grid, X_train_scaled, y_train, 'grid')\n",
        "\n",
        "print(\"\\nSVM Randomized Search:\")\n",
        "best_svm_rand = tune_model(SVC(), svm_param_grid, X_train_scaled, y_train, 'random')\n"
      ],
      "metadata": {
        "colab": {
          "base_uri": "https://localhost:8080/"
        },
        "id": "eyDysxKDVOTN",
        "outputId": "157d2aad-57e5-47d3-b614-3ab87c4efb57"
      },
      "execution_count": 76,
      "outputs": [
        {
          "output_type": "stream",
          "name": "stdout",
          "text": [
            "Best parameters: {'C': 1, 'gamma': 0.1, 'kernel': 'rbf'}\n",
            "Best cross-validation score: 0.5703\n",
            "Time taken: 5.12 seconds\n",
            "\n",
            "SVM Randomized Search:\n"
          ]
        },
        {
          "output_type": "stream",
          "name": "stderr",
          "text": [
            "/usr/local/lib/python3.11/dist-packages/sklearn/model_selection/_search.py:317: UserWarning: The total space of parameters 48 is smaller than n_iter=100. Running 48 iterations. For exhaustive searches, use GridSearchCV.\n",
            "  warnings.warn(\n"
          ]
        },
        {
          "output_type": "stream",
          "name": "stdout",
          "text": [
            "Best parameters: {'kernel': 'rbf', 'gamma': 0.1, 'C': 1}\n",
            "Best cross-validation score: 0.5703\n",
            "Time taken: 5.54 seconds\n"
          ]
        }
      ]
    },
    {
      "cell_type": "markdown",
      "source": [
        "# Random Forest"
      ],
      "metadata": {
        "id": "5YkZjcXdZvIa"
      }
    },
    {
      "cell_type": "code",
      "source": [
        "rf_param_grid = {\n",
        "    'n_estimators': [50, 100, 200, 300, 500],\n",
        "    'max_depth': [None, 5, 10, 20, 30, 50],\n",
        "    'min_samples_split': [2, 5, 10, 15],\n",
        "    'min_samples_leaf': [1, 2, 4, 8],\n",
        "    'max_features': ['sqrt', 'log2', None]\n",
        "}\n",
        "best_rf = tune_model(RandomForestClassifier(), rf_param_grid, X_train, y_train, 'grid')\n",
        "\n",
        "print(\"\\nRandom Forest Randomized Search:\")\n",
        "best_rf_rand = tune_model(RandomForestClassifier(), rf_param_grid, X_train, y_train, 'random')"
      ],
      "metadata": {
        "colab": {
          "base_uri": "https://localhost:8080/"
        },
        "id": "ilRVfl5GV6KD",
        "outputId": "7c7cbd73-a954-45e7-9d13-22b169eea9ae"
      },
      "execution_count": 79,
      "outputs": [
        {
          "output_type": "stream",
          "name": "stdout",
          "text": [
            "Best parameters: {'max_depth': None, 'max_features': 'log2', 'min_samples_leaf': 8, 'min_samples_split': 2, 'n_estimators': 50}\n",
            "Best cross-validation score: 0.5801\n",
            "Time taken: 2736.78 seconds\n",
            "\n",
            "Random Forest Randomized Search:\n",
            "Best parameters: {'n_estimators': 300, 'min_samples_split': 10, 'min_samples_leaf': 8, 'max_features': 'sqrt', 'max_depth': 20}\n",
            "Best cross-validation score: 0.5704\n",
            "Time taken: 194.04 seconds\n"
          ]
        }
      ]
    },
    {
      "cell_type": "markdown",
      "source": [
        "# Decision Tree"
      ],
      "metadata": {
        "id": "I6Q4C8leZ3hD"
      }
    },
    {
      "cell_type": "code",
      "source": [
        "dt_param_grid = {\n",
        "    'max_depth': [None, 5, 10, 20],\n",
        "    'min_samples_split': [2, 5, 10],\n",
        "    'min_samples_leaf': [1, 2, 4],\n",
        "    'criterion': ['gini', 'entropy']\n",
        "}\n",
        "best_dt = tune_model(DecisionTreeClassifier(), dt_param_grid, X_train, y_train, 'grid')\n",
        "\n",
        "print(\"\\nDecision Tree Randomized Search:\")\n",
        "best_dt_rand = tune_model(DecisionTreeClassifier(), dt_param_grid, X_train, y_train, 'random')"
      ],
      "metadata": {
        "colab": {
          "base_uri": "https://localhost:8080/"
        },
        "id": "Bq-z0j5mV_JR",
        "outputId": "25034a9c-dcdf-4235-ac56-3cac12635a37"
      },
      "execution_count": 80,
      "outputs": [
        {
          "output_type": "stream",
          "name": "stdout",
          "text": [
            "Best parameters: {'criterion': 'entropy', 'max_depth': None, 'min_samples_leaf': 4, 'min_samples_split': 5}\n",
            "Best cross-validation score: 0.5654\n",
            "Time taken: 1.61 seconds\n",
            "\n",
            "Decision Tree Randomized Search:\n"
          ]
        },
        {
          "output_type": "stream",
          "name": "stderr",
          "text": [
            "/usr/local/lib/python3.11/dist-packages/sklearn/model_selection/_search.py:317: UserWarning: The total space of parameters 72 is smaller than n_iter=100. Running 72 iterations. For exhaustive searches, use GridSearchCV.\n",
            "  warnings.warn(\n"
          ]
        },
        {
          "output_type": "stream",
          "name": "stdout",
          "text": [
            "Best parameters: {'min_samples_split': 10, 'min_samples_leaf': 4, 'max_depth': 10, 'criterion': 'entropy'}\n",
            "Best cross-validation score: 0.5702\n",
            "Time taken: 1.86 seconds\n"
          ]
        }
      ]
    },
    {
      "cell_type": "markdown",
      "source": [
        "# Logistic Regression"
      ],
      "metadata": {
        "id": "6_RqGb2JZ7yO"
      }
    },
    {
      "cell_type": "code",
      "source": [
        "lr_param_grid = {\n",
        "    'C': [0.001, 0.01, 0.1, 1, 10, 100],\n",
        "    'penalty': ['l1', 'l2', 'elasticnet'],\n",
        "    'solver': ['newton-cg', 'lbfgs', 'liblinear', 'sag', 'saga']\n",
        "}\n",
        "best_lr = tune_model(LogisticRegression(max_iter=1000), lr_param_grid, X_train_scaled, y_train, 'grid')\n",
        "\n",
        "print(\"\\nLogistic Regression Randomized Search:\")\n",
        "best_lr_rand = tune_model(LogisticRegression(max_iter=1000), lr_param_grid, X_train_scaled, y_train, 'random')"
      ],
      "metadata": {
        "colab": {
          "base_uri": "https://localhost:8080/"
        },
        "id": "4fobaj3OV-j4",
        "outputId": "5fc06810-9128-457e-f039-49bec1371656"
      },
      "execution_count": 81,
      "outputs": [
        {
          "output_type": "stream",
          "name": "stderr",
          "text": [
            "/usr/local/lib/python3.11/dist-packages/sklearn/model_selection/_validation.py:528: FitFailedWarning: \n",
            "240 fits failed out of a total of 450.\n",
            "The score on these train-test partitions for these parameters will be set to nan.\n",
            "If these failures are not expected, you can try to debug them by setting error_score='raise'.\n",
            "\n",
            "Below are more details about the failures:\n",
            "--------------------------------------------------------------------------------\n",
            "30 fits failed with the following error:\n",
            "Traceback (most recent call last):\n",
            "  File \"/usr/local/lib/python3.11/dist-packages/sklearn/model_selection/_validation.py\", line 866, in _fit_and_score\n",
            "    estimator.fit(X_train, y_train, **fit_params)\n",
            "  File \"/usr/local/lib/python3.11/dist-packages/sklearn/base.py\", line 1389, in wrapper\n",
            "    return fit_method(estimator, *args, **kwargs)\n",
            "           ^^^^^^^^^^^^^^^^^^^^^^^^^^^^^^^^^^^^^^\n",
            "  File \"/usr/local/lib/python3.11/dist-packages/sklearn/linear_model/_logistic.py\", line 1193, in fit\n",
            "    solver = _check_solver(self.solver, self.penalty, self.dual)\n",
            "             ^^^^^^^^^^^^^^^^^^^^^^^^^^^^^^^^^^^^^^^^^^^^^^^^^^^\n",
            "  File \"/usr/local/lib/python3.11/dist-packages/sklearn/linear_model/_logistic.py\", line 63, in _check_solver\n",
            "    raise ValueError(\n",
            "ValueError: Solver newton-cg supports only 'l2' or None penalties, got l1 penalty.\n",
            "\n",
            "--------------------------------------------------------------------------------\n",
            "30 fits failed with the following error:\n",
            "Traceback (most recent call last):\n",
            "  File \"/usr/local/lib/python3.11/dist-packages/sklearn/model_selection/_validation.py\", line 866, in _fit_and_score\n",
            "    estimator.fit(X_train, y_train, **fit_params)\n",
            "  File \"/usr/local/lib/python3.11/dist-packages/sklearn/base.py\", line 1389, in wrapper\n",
            "    return fit_method(estimator, *args, **kwargs)\n",
            "           ^^^^^^^^^^^^^^^^^^^^^^^^^^^^^^^^^^^^^^\n",
            "  File \"/usr/local/lib/python3.11/dist-packages/sklearn/linear_model/_logistic.py\", line 1193, in fit\n",
            "    solver = _check_solver(self.solver, self.penalty, self.dual)\n",
            "             ^^^^^^^^^^^^^^^^^^^^^^^^^^^^^^^^^^^^^^^^^^^^^^^^^^^\n",
            "  File \"/usr/local/lib/python3.11/dist-packages/sklearn/linear_model/_logistic.py\", line 63, in _check_solver\n",
            "    raise ValueError(\n",
            "ValueError: Solver lbfgs supports only 'l2' or None penalties, got l1 penalty.\n",
            "\n",
            "--------------------------------------------------------------------------------\n",
            "30 fits failed with the following error:\n",
            "Traceback (most recent call last):\n",
            "  File \"/usr/local/lib/python3.11/dist-packages/sklearn/model_selection/_validation.py\", line 866, in _fit_and_score\n",
            "    estimator.fit(X_train, y_train, **fit_params)\n",
            "  File \"/usr/local/lib/python3.11/dist-packages/sklearn/base.py\", line 1389, in wrapper\n",
            "    return fit_method(estimator, *args, **kwargs)\n",
            "           ^^^^^^^^^^^^^^^^^^^^^^^^^^^^^^^^^^^^^^\n",
            "  File \"/usr/local/lib/python3.11/dist-packages/sklearn/linear_model/_logistic.py\", line 1193, in fit\n",
            "    solver = _check_solver(self.solver, self.penalty, self.dual)\n",
            "             ^^^^^^^^^^^^^^^^^^^^^^^^^^^^^^^^^^^^^^^^^^^^^^^^^^^\n",
            "  File \"/usr/local/lib/python3.11/dist-packages/sklearn/linear_model/_logistic.py\", line 63, in _check_solver\n",
            "    raise ValueError(\n",
            "ValueError: Solver sag supports only 'l2' or None penalties, got l1 penalty.\n",
            "\n",
            "--------------------------------------------------------------------------------\n",
            "30 fits failed with the following error:\n",
            "Traceback (most recent call last):\n",
            "  File \"/usr/local/lib/python3.11/dist-packages/sklearn/model_selection/_validation.py\", line 866, in _fit_and_score\n",
            "    estimator.fit(X_train, y_train, **fit_params)\n",
            "  File \"/usr/local/lib/python3.11/dist-packages/sklearn/base.py\", line 1389, in wrapper\n",
            "    return fit_method(estimator, *args, **kwargs)\n",
            "           ^^^^^^^^^^^^^^^^^^^^^^^^^^^^^^^^^^^^^^\n",
            "  File \"/usr/local/lib/python3.11/dist-packages/sklearn/linear_model/_logistic.py\", line 1193, in fit\n",
            "    solver = _check_solver(self.solver, self.penalty, self.dual)\n",
            "             ^^^^^^^^^^^^^^^^^^^^^^^^^^^^^^^^^^^^^^^^^^^^^^^^^^^\n",
            "  File \"/usr/local/lib/python3.11/dist-packages/sklearn/linear_model/_logistic.py\", line 63, in _check_solver\n",
            "    raise ValueError(\n",
            "ValueError: Solver newton-cg supports only 'l2' or None penalties, got elasticnet penalty.\n",
            "\n",
            "--------------------------------------------------------------------------------\n",
            "30 fits failed with the following error:\n",
            "Traceback (most recent call last):\n",
            "  File \"/usr/local/lib/python3.11/dist-packages/sklearn/model_selection/_validation.py\", line 866, in _fit_and_score\n",
            "    estimator.fit(X_train, y_train, **fit_params)\n",
            "  File \"/usr/local/lib/python3.11/dist-packages/sklearn/base.py\", line 1389, in wrapper\n",
            "    return fit_method(estimator, *args, **kwargs)\n",
            "           ^^^^^^^^^^^^^^^^^^^^^^^^^^^^^^^^^^^^^^\n",
            "  File \"/usr/local/lib/python3.11/dist-packages/sklearn/linear_model/_logistic.py\", line 1193, in fit\n",
            "    solver = _check_solver(self.solver, self.penalty, self.dual)\n",
            "             ^^^^^^^^^^^^^^^^^^^^^^^^^^^^^^^^^^^^^^^^^^^^^^^^^^^\n",
            "  File \"/usr/local/lib/python3.11/dist-packages/sklearn/linear_model/_logistic.py\", line 63, in _check_solver\n",
            "    raise ValueError(\n",
            "ValueError: Solver lbfgs supports only 'l2' or None penalties, got elasticnet penalty.\n",
            "\n",
            "--------------------------------------------------------------------------------\n",
            "30 fits failed with the following error:\n",
            "Traceback (most recent call last):\n",
            "  File \"/usr/local/lib/python3.11/dist-packages/sklearn/model_selection/_validation.py\", line 866, in _fit_and_score\n",
            "    estimator.fit(X_train, y_train, **fit_params)\n",
            "  File \"/usr/local/lib/python3.11/dist-packages/sklearn/base.py\", line 1389, in wrapper\n",
            "    return fit_method(estimator, *args, **kwargs)\n",
            "           ^^^^^^^^^^^^^^^^^^^^^^^^^^^^^^^^^^^^^^\n",
            "  File \"/usr/local/lib/python3.11/dist-packages/sklearn/linear_model/_logistic.py\", line 1193, in fit\n",
            "    solver = _check_solver(self.solver, self.penalty, self.dual)\n",
            "             ^^^^^^^^^^^^^^^^^^^^^^^^^^^^^^^^^^^^^^^^^^^^^^^^^^^\n",
            "  File \"/usr/local/lib/python3.11/dist-packages/sklearn/linear_model/_logistic.py\", line 71, in _check_solver\n",
            "    raise ValueError(\n",
            "ValueError: Only 'saga' solver supports elasticnet penalty, got solver=liblinear.\n",
            "\n",
            "--------------------------------------------------------------------------------\n",
            "30 fits failed with the following error:\n",
            "Traceback (most recent call last):\n",
            "  File \"/usr/local/lib/python3.11/dist-packages/sklearn/model_selection/_validation.py\", line 866, in _fit_and_score\n",
            "    estimator.fit(X_train, y_train, **fit_params)\n",
            "  File \"/usr/local/lib/python3.11/dist-packages/sklearn/base.py\", line 1389, in wrapper\n",
            "    return fit_method(estimator, *args, **kwargs)\n",
            "           ^^^^^^^^^^^^^^^^^^^^^^^^^^^^^^^^^^^^^^\n",
            "  File \"/usr/local/lib/python3.11/dist-packages/sklearn/linear_model/_logistic.py\", line 1193, in fit\n",
            "    solver = _check_solver(self.solver, self.penalty, self.dual)\n",
            "             ^^^^^^^^^^^^^^^^^^^^^^^^^^^^^^^^^^^^^^^^^^^^^^^^^^^\n",
            "  File \"/usr/local/lib/python3.11/dist-packages/sklearn/linear_model/_logistic.py\", line 63, in _check_solver\n",
            "    raise ValueError(\n",
            "ValueError: Solver sag supports only 'l2' or None penalties, got elasticnet penalty.\n",
            "\n",
            "--------------------------------------------------------------------------------\n",
            "30 fits failed with the following error:\n",
            "Traceback (most recent call last):\n",
            "  File \"/usr/local/lib/python3.11/dist-packages/sklearn/model_selection/_validation.py\", line 866, in _fit_and_score\n",
            "    estimator.fit(X_train, y_train, **fit_params)\n",
            "  File \"/usr/local/lib/python3.11/dist-packages/sklearn/base.py\", line 1389, in wrapper\n",
            "    return fit_method(estimator, *args, **kwargs)\n",
            "           ^^^^^^^^^^^^^^^^^^^^^^^^^^^^^^^^^^^^^^\n",
            "  File \"/usr/local/lib/python3.11/dist-packages/sklearn/linear_model/_logistic.py\", line 1203, in fit\n",
            "    raise ValueError(\"l1_ratio must be specified when penalty is elasticnet.\")\n",
            "ValueError: l1_ratio must be specified when penalty is elasticnet.\n",
            "\n",
            "  warnings.warn(some_fits_failed_message, FitFailedWarning)\n",
            "/usr/local/lib/python3.11/dist-packages/sklearn/model_selection/_search.py:1108: UserWarning: One or more of the test scores are non-finite: [       nan        nan 0.53635308        nan 0.53635308 0.53635308\n",
            " 0.53635308 0.54610918 0.53635308 0.53635308        nan        nan\n",
            "        nan        nan        nan        nan        nan 0.53635308\n",
            "        nan 0.53635308 0.53635308 0.53635308 0.55586527 0.53635308\n",
            " 0.53635308        nan        nan        nan        nan        nan\n",
            "        nan        nan 0.55075494        nan 0.55075494 0.56051103\n",
            " 0.56051103 0.56062718 0.56051103 0.56051103        nan        nan\n",
            "        nan        nan        nan        nan        nan 0.55563298\n",
            "        nan 0.56051103 0.57015099 0.57015099 0.56062718 0.57015099\n",
            " 0.57015099        nan        nan        nan        nan        nan\n",
            "        nan        nan 0.57502904        nan 0.57026713 0.56538908\n",
            " 0.56538908 0.57015099 0.56538908 0.56538908        nan        nan\n",
            "        nan        nan        nan        nan        nan 0.57514518\n",
            "        nan 0.56538908 0.57502904 0.57502904 0.57990708 0.57026713\n",
            " 0.57502904        nan        nan        nan        nan        nan]\n",
            "  warnings.warn(\n",
            "/usr/local/lib/python3.11/dist-packages/sklearn/model_selection/_search.py:317: UserWarning: The total space of parameters 90 is smaller than n_iter=100. Running 90 iterations. For exhaustive searches, use GridSearchCV.\n",
            "  warnings.warn(\n"
          ]
        },
        {
          "output_type": "stream",
          "name": "stdout",
          "text": [
            "Best parameters: {'C': 100, 'penalty': 'l2', 'solver': 'liblinear'}\n",
            "Best cross-validation score: 0.5799\n",
            "Time taken: 4.20 seconds\n",
            "\n",
            "Logistic Regression Randomized Search:\n",
            "Best parameters: {'solver': 'liblinear', 'penalty': 'l2', 'C': 100}\n",
            "Best cross-validation score: 0.5799\n",
            "Time taken: 3.04 seconds\n"
          ]
        },
        {
          "output_type": "stream",
          "name": "stderr",
          "text": [
            "/usr/local/lib/python3.11/dist-packages/sklearn/model_selection/_validation.py:528: FitFailedWarning: \n",
            "240 fits failed out of a total of 450.\n",
            "The score on these train-test partitions for these parameters will be set to nan.\n",
            "If these failures are not expected, you can try to debug them by setting error_score='raise'.\n",
            "\n",
            "Below are more details about the failures:\n",
            "--------------------------------------------------------------------------------\n",
            "30 fits failed with the following error:\n",
            "Traceback (most recent call last):\n",
            "  File \"/usr/local/lib/python3.11/dist-packages/sklearn/model_selection/_validation.py\", line 866, in _fit_and_score\n",
            "    estimator.fit(X_train, y_train, **fit_params)\n",
            "  File \"/usr/local/lib/python3.11/dist-packages/sklearn/base.py\", line 1389, in wrapper\n",
            "    return fit_method(estimator, *args, **kwargs)\n",
            "           ^^^^^^^^^^^^^^^^^^^^^^^^^^^^^^^^^^^^^^\n",
            "  File \"/usr/local/lib/python3.11/dist-packages/sklearn/linear_model/_logistic.py\", line 1193, in fit\n",
            "    solver = _check_solver(self.solver, self.penalty, self.dual)\n",
            "             ^^^^^^^^^^^^^^^^^^^^^^^^^^^^^^^^^^^^^^^^^^^^^^^^^^^\n",
            "  File \"/usr/local/lib/python3.11/dist-packages/sklearn/linear_model/_logistic.py\", line 63, in _check_solver\n",
            "    raise ValueError(\n",
            "ValueError: Solver newton-cg supports only 'l2' or None penalties, got l1 penalty.\n",
            "\n",
            "--------------------------------------------------------------------------------\n",
            "30 fits failed with the following error:\n",
            "Traceback (most recent call last):\n",
            "  File \"/usr/local/lib/python3.11/dist-packages/sklearn/model_selection/_validation.py\", line 866, in _fit_and_score\n",
            "    estimator.fit(X_train, y_train, **fit_params)\n",
            "  File \"/usr/local/lib/python3.11/dist-packages/sklearn/base.py\", line 1389, in wrapper\n",
            "    return fit_method(estimator, *args, **kwargs)\n",
            "           ^^^^^^^^^^^^^^^^^^^^^^^^^^^^^^^^^^^^^^\n",
            "  File \"/usr/local/lib/python3.11/dist-packages/sklearn/linear_model/_logistic.py\", line 1193, in fit\n",
            "    solver = _check_solver(self.solver, self.penalty, self.dual)\n",
            "             ^^^^^^^^^^^^^^^^^^^^^^^^^^^^^^^^^^^^^^^^^^^^^^^^^^^\n",
            "  File \"/usr/local/lib/python3.11/dist-packages/sklearn/linear_model/_logistic.py\", line 63, in _check_solver\n",
            "    raise ValueError(\n",
            "ValueError: Solver lbfgs supports only 'l2' or None penalties, got l1 penalty.\n",
            "\n",
            "--------------------------------------------------------------------------------\n",
            "30 fits failed with the following error:\n",
            "Traceback (most recent call last):\n",
            "  File \"/usr/local/lib/python3.11/dist-packages/sklearn/model_selection/_validation.py\", line 866, in _fit_and_score\n",
            "    estimator.fit(X_train, y_train, **fit_params)\n",
            "  File \"/usr/local/lib/python3.11/dist-packages/sklearn/base.py\", line 1389, in wrapper\n",
            "    return fit_method(estimator, *args, **kwargs)\n",
            "           ^^^^^^^^^^^^^^^^^^^^^^^^^^^^^^^^^^^^^^\n",
            "  File \"/usr/local/lib/python3.11/dist-packages/sklearn/linear_model/_logistic.py\", line 1193, in fit\n",
            "    solver = _check_solver(self.solver, self.penalty, self.dual)\n",
            "             ^^^^^^^^^^^^^^^^^^^^^^^^^^^^^^^^^^^^^^^^^^^^^^^^^^^\n",
            "  File \"/usr/local/lib/python3.11/dist-packages/sklearn/linear_model/_logistic.py\", line 63, in _check_solver\n",
            "    raise ValueError(\n",
            "ValueError: Solver sag supports only 'l2' or None penalties, got l1 penalty.\n",
            "\n",
            "--------------------------------------------------------------------------------\n",
            "30 fits failed with the following error:\n",
            "Traceback (most recent call last):\n",
            "  File \"/usr/local/lib/python3.11/dist-packages/sklearn/model_selection/_validation.py\", line 866, in _fit_and_score\n",
            "    estimator.fit(X_train, y_train, **fit_params)\n",
            "  File \"/usr/local/lib/python3.11/dist-packages/sklearn/base.py\", line 1389, in wrapper\n",
            "    return fit_method(estimator, *args, **kwargs)\n",
            "           ^^^^^^^^^^^^^^^^^^^^^^^^^^^^^^^^^^^^^^\n",
            "  File \"/usr/local/lib/python3.11/dist-packages/sklearn/linear_model/_logistic.py\", line 1193, in fit\n",
            "    solver = _check_solver(self.solver, self.penalty, self.dual)\n",
            "             ^^^^^^^^^^^^^^^^^^^^^^^^^^^^^^^^^^^^^^^^^^^^^^^^^^^\n",
            "  File \"/usr/local/lib/python3.11/dist-packages/sklearn/linear_model/_logistic.py\", line 63, in _check_solver\n",
            "    raise ValueError(\n",
            "ValueError: Solver newton-cg supports only 'l2' or None penalties, got elasticnet penalty.\n",
            "\n",
            "--------------------------------------------------------------------------------\n",
            "30 fits failed with the following error:\n",
            "Traceback (most recent call last):\n",
            "  File \"/usr/local/lib/python3.11/dist-packages/sklearn/model_selection/_validation.py\", line 866, in _fit_and_score\n",
            "    estimator.fit(X_train, y_train, **fit_params)\n",
            "  File \"/usr/local/lib/python3.11/dist-packages/sklearn/base.py\", line 1389, in wrapper\n",
            "    return fit_method(estimator, *args, **kwargs)\n",
            "           ^^^^^^^^^^^^^^^^^^^^^^^^^^^^^^^^^^^^^^\n",
            "  File \"/usr/local/lib/python3.11/dist-packages/sklearn/linear_model/_logistic.py\", line 1193, in fit\n",
            "    solver = _check_solver(self.solver, self.penalty, self.dual)\n",
            "             ^^^^^^^^^^^^^^^^^^^^^^^^^^^^^^^^^^^^^^^^^^^^^^^^^^^\n",
            "  File \"/usr/local/lib/python3.11/dist-packages/sklearn/linear_model/_logistic.py\", line 63, in _check_solver\n",
            "    raise ValueError(\n",
            "ValueError: Solver lbfgs supports only 'l2' or None penalties, got elasticnet penalty.\n",
            "\n",
            "--------------------------------------------------------------------------------\n",
            "30 fits failed with the following error:\n",
            "Traceback (most recent call last):\n",
            "  File \"/usr/local/lib/python3.11/dist-packages/sklearn/model_selection/_validation.py\", line 866, in _fit_and_score\n",
            "    estimator.fit(X_train, y_train, **fit_params)\n",
            "  File \"/usr/local/lib/python3.11/dist-packages/sklearn/base.py\", line 1389, in wrapper\n",
            "    return fit_method(estimator, *args, **kwargs)\n",
            "           ^^^^^^^^^^^^^^^^^^^^^^^^^^^^^^^^^^^^^^\n",
            "  File \"/usr/local/lib/python3.11/dist-packages/sklearn/linear_model/_logistic.py\", line 1193, in fit\n",
            "    solver = _check_solver(self.solver, self.penalty, self.dual)\n",
            "             ^^^^^^^^^^^^^^^^^^^^^^^^^^^^^^^^^^^^^^^^^^^^^^^^^^^\n",
            "  File \"/usr/local/lib/python3.11/dist-packages/sklearn/linear_model/_logistic.py\", line 71, in _check_solver\n",
            "    raise ValueError(\n",
            "ValueError: Only 'saga' solver supports elasticnet penalty, got solver=liblinear.\n",
            "\n",
            "--------------------------------------------------------------------------------\n",
            "30 fits failed with the following error:\n",
            "Traceback (most recent call last):\n",
            "  File \"/usr/local/lib/python3.11/dist-packages/sklearn/model_selection/_validation.py\", line 866, in _fit_and_score\n",
            "    estimator.fit(X_train, y_train, **fit_params)\n",
            "  File \"/usr/local/lib/python3.11/dist-packages/sklearn/base.py\", line 1389, in wrapper\n",
            "    return fit_method(estimator, *args, **kwargs)\n",
            "           ^^^^^^^^^^^^^^^^^^^^^^^^^^^^^^^^^^^^^^\n",
            "  File \"/usr/local/lib/python3.11/dist-packages/sklearn/linear_model/_logistic.py\", line 1193, in fit\n",
            "    solver = _check_solver(self.solver, self.penalty, self.dual)\n",
            "             ^^^^^^^^^^^^^^^^^^^^^^^^^^^^^^^^^^^^^^^^^^^^^^^^^^^\n",
            "  File \"/usr/local/lib/python3.11/dist-packages/sklearn/linear_model/_logistic.py\", line 63, in _check_solver\n",
            "    raise ValueError(\n",
            "ValueError: Solver sag supports only 'l2' or None penalties, got elasticnet penalty.\n",
            "\n",
            "--------------------------------------------------------------------------------\n",
            "30 fits failed with the following error:\n",
            "Traceback (most recent call last):\n",
            "  File \"/usr/local/lib/python3.11/dist-packages/sklearn/model_selection/_validation.py\", line 866, in _fit_and_score\n",
            "    estimator.fit(X_train, y_train, **fit_params)\n",
            "  File \"/usr/local/lib/python3.11/dist-packages/sklearn/base.py\", line 1389, in wrapper\n",
            "    return fit_method(estimator, *args, **kwargs)\n",
            "           ^^^^^^^^^^^^^^^^^^^^^^^^^^^^^^^^^^^^^^\n",
            "  File \"/usr/local/lib/python3.11/dist-packages/sklearn/linear_model/_logistic.py\", line 1203, in fit\n",
            "    raise ValueError(\"l1_ratio must be specified when penalty is elasticnet.\")\n",
            "ValueError: l1_ratio must be specified when penalty is elasticnet.\n",
            "\n",
            "  warnings.warn(some_fits_failed_message, FitFailedWarning)\n",
            "/usr/local/lib/python3.11/dist-packages/sklearn/model_selection/_search.py:1108: UserWarning: One or more of the test scores are non-finite: [       nan        nan 0.53635308        nan 0.53635308 0.53635308\n",
            " 0.53635308 0.54610918 0.53635308 0.53635308        nan        nan\n",
            "        nan        nan        nan        nan        nan 0.53635308\n",
            "        nan 0.53635308 0.53635308 0.53635308 0.55586527 0.53635308\n",
            " 0.53635308        nan        nan        nan        nan        nan\n",
            "        nan        nan 0.55075494        nan 0.55075494 0.56051103\n",
            " 0.56051103 0.56062718 0.56051103 0.56051103        nan        nan\n",
            "        nan        nan        nan        nan        nan 0.55563298\n",
            "        nan 0.56051103 0.57015099 0.57015099 0.56062718 0.57015099\n",
            " 0.57015099        nan        nan        nan        nan        nan\n",
            "        nan        nan 0.57502904        nan 0.57026713 0.56538908\n",
            " 0.56538908 0.57015099 0.56538908 0.56538908        nan        nan\n",
            "        nan        nan        nan        nan        nan 0.57514518\n",
            "        nan 0.56538908 0.57502904 0.57502904 0.57990708 0.57026713\n",
            " 0.57502904        nan        nan        nan        nan        nan]\n",
            "  warnings.warn(\n"
          ]
        }
      ]
    },
    {
      "cell_type": "markdown",
      "source": [
        "# 3. Clustering Models (Unsupervised)"
      ],
      "metadata": {
        "id": "tZ_igzebaKp4"
      }
    },
    {
      "cell_type": "markdown",
      "source": [
        "# K-Means Clustering"
      ],
      "metadata": {
        "id": "Mf_gE6uIaUUP"
      }
    },
    {
      "cell_type": "code",
      "source": [
        "best_silhouette = -1\n",
        "best_kmeans = None\n",
        "for n_clusters in range(2, 10):\n",
        "    kmeans = KMeans(n_clusters=n_clusters, random_state=42)\n",
        "    cluster_labels = kmeans.fit_predict(X_scaled)\n",
        "    silhouette_avg = silhouette_score(X_scaled, cluster_labels)\n",
        "    print(f\"For n_clusters = {n_clusters}, silhouette score is {silhouette_avg:.4f}\")\n",
        "\n",
        "    if silhouette_avg > best_silhouette:\n",
        "        best_silhouette = silhouette_avg\n",
        "        best_kmeans = kmeans\n",
        "        best_n_clusters = n_clusters\n",
        "\n",
        "print(f\"\\nBest K-Means: n_clusters = {best_n_clusters}, silhouette score = {best_silhouette:.4f}\")"
      ],
      "metadata": {
        "colab": {
          "base_uri": "https://localhost:8080/"
        },
        "id": "8eMTtp4AV-4R",
        "outputId": "a23938bf-577e-4497-a20c-3df3daf3f4fd"
      },
      "execution_count": 82,
      "outputs": [
        {
          "output_type": "stream",
          "name": "stdout",
          "text": [
            "For n_clusters = 2, silhouette score is 0.3159\n",
            "For n_clusters = 3, silhouette score is 0.1581\n",
            "For n_clusters = 4, silhouette score is 0.1816\n",
            "For n_clusters = 5, silhouette score is 0.2260\n",
            "For n_clusters = 6, silhouette score is 0.2252\n",
            "For n_clusters = 7, silhouette score is 0.2262\n",
            "For n_clusters = 8, silhouette score is 0.2445\n",
            "For n_clusters = 9, silhouette score is 0.2403\n",
            "\n",
            "Best K-Means: n_clusters = 2, silhouette score = 0.3159\n"
          ]
        }
      ]
    },
    {
      "cell_type": "markdown",
      "source": [
        "# Hierarchical Clustering"
      ],
      "metadata": {
        "id": "bDI7xcLjaal7"
      }
    },
    {
      "cell_type": "code",
      "source": [
        "best_silhouette_hc = -1\n",
        "best_hc = None\n",
        "for n_clusters in range(2, 10):\n",
        "    hc = AgglomerativeClustering(n_clusters=n_clusters)\n",
        "    cluster_labels = hc.fit_predict(X_scaled)\n",
        "    silhouette_avg = silhouette_score(X_scaled, cluster_labels)\n",
        "    print(f\"For n_clusters = {n_clusters}, silhouette score is {silhouette_avg:.4f}\")\n",
        "\n",
        "    if silhouette_avg > best_silhouette_hc:\n",
        "        best_silhouette_hc = silhouette_avg\n",
        "        best_hc = hc\n",
        "        best_n_clusters_hc = n_clusters\n",
        "\n",
        "print(f\"\\nBest Hierarchical Clustering: n_clusters = {best_n_clusters_hc}, silhouette score = {best_silhouette_hc:.4f}\")"
      ],
      "metadata": {
        "colab": {
          "base_uri": "https://localhost:8080/"
        },
        "id": "FS6lhR69WnN-",
        "outputId": "9b74b442-5e0c-4d60-9ae2-e495de5fa711"
      },
      "execution_count": 83,
      "outputs": [
        {
          "output_type": "stream",
          "name": "stdout",
          "text": [
            "For n_clusters = 2, silhouette score is 0.3159\n",
            "For n_clusters = 3, silhouette score is 0.1613\n",
            "For n_clusters = 4, silhouette score is 0.2230\n",
            "For n_clusters = 5, silhouette score is 0.2634\n",
            "For n_clusters = 6, silhouette score is 0.2625\n",
            "For n_clusters = 7, silhouette score is 0.2779\n",
            "For n_clusters = 8, silhouette score is 0.2563\n",
            "For n_clusters = 9, silhouette score is 0.2528\n",
            "\n",
            "Best Hierarchical Clustering: n_clusters = 2, silhouette score = 0.3159\n"
          ]
        }
      ]
    },
    {
      "cell_type": "code",
      "source": [
        "# Plot dendrogram for hierarchical clustering\n",
        "plt.figure(figsize=(10, 7))\n",
        "plt.title(\"Dendrogram\")\n",
        "dend = dendrogram(linkage(X_scaled, method='ward'))\n",
        "plt.show()"
      ],
      "metadata": {
        "colab": {
          "base_uri": "https://localhost:8080/",
          "height": 621
        },
        "id": "InEsQLESWrcX",
        "outputId": "e1440ae2-641a-4220-9134-2e7088040f4c"
      },
      "execution_count": 84,
      "outputs": [
        {
          "output_type": "display_data",
          "data": {
            "text/plain": [
              "<Figure size 1000x700 with 1 Axes>"
            ],
            "image/png": "[encoded data removed]"
          },
          "metadata": {}
        }
      ]
    },
    {
      "cell_type": "markdown",
      "source": [
        "# 4. Final Evaluation"
      ],
      "metadata": {
        "id": "3oxG3pRXai71"
      }
    },
    {
      "cell_type": "code",
      "source": [
        "print(\"\\n=== FINAL EVALUATION ===\")\n",
        "print(\"\\nBaseline Performance:\")\n",
        "for name, acc in baseline_results.items():\n",
        "    print(f\"{name}: {acc:.4f}\")\n",
        "\n",
        "print(\"\\nOptimized Models Performance:\")\n",
        "optimized_models = {\n",
        "    \"SVM (Grid)\": best_svm,\n",
        "    \"SVM (Random)\": best_svm_rand,\n",
        "    \"Random Forest (Grid)\": best_rf,\n",
        "    \"Random Forest (Random)\": best_rf_rand,\n",
        "    \"Decision Tree (Grid)\": best_dt,\n",
        "    \"Decision Tree (Random)\": best_dt_rand,\n",
        "    \"Logistic Regression (Grid)\": best_lr,\n",
        "    \"Logistic Regression (Random)\": best_lr_rand\n",
        "}\n"
      ],
      "metadata": {
        "colab": {
          "base_uri": "https://localhost:8080/"
        },
        "id": "ql6peHxKWrXc",
        "outputId": "539de4a1-082a-4925-e932-16fa5bb441af"
      },
      "execution_count": 85,
      "outputs": [
        {
          "output_type": "stream",
          "name": "stdout",
          "text": [
            "\n",
            "=== FINAL EVALUATION ===\n",
            "\n",
            "Baseline Performance:\n",
            "SVM: 0.5889\n",
            "Random Forest: 0.5444\n",
            "Decision Tree: 0.4556\n",
            "Logistic Regression: 0.6444\n",
            "\n",
            "Optimized Models Performance:\n"
          ]
        }
      ]
    },
    {
      "cell_type": "code",
      "source": [
        "optimized_results = {}\n",
        "for name, model in optimized_models.items():\n",
        "    print(f\"\\n{name}:\")\n",
        "    if 'SVM' in name or 'Logistic' in name:  # Models that need scaling\n",
        "        acc = evaluate_model(model, X_train_scaled, X_test_scaled, y_train, y_test)\n",
        "    else:\n",
        "        acc = evaluate_model(model, X_train, X_test, y_train, y_test)\n",
        "    optimized_results[name] = acc"
      ],
      "metadata": {
        "colab": {
          "base_uri": "https://localhost:8080/"
        },
        "id": "l6RgESaUWrVm",
        "outputId": "b322547e-ff9d-41d6-fa83-3158a83a1776"
      },
      "execution_count": 86,
      "outputs": [
        {
          "output_type": "stream",
          "name": "stdout",
          "text": [
            "\n",
            "SVM (Grid):\n",
            "Accuracy: 0.5889\n",
            "              precision    recall  f1-score   support\n",
            "\n",
            "           0       0.69      0.98      0.81        49\n",
            "           1       0.17      0.12      0.14        17\n",
            "           2       0.40      0.20      0.27        10\n",
            "           3       0.33      0.09      0.14        11\n",
            "           4       0.00      0.00      0.00         3\n",
            "\n",
            "    accuracy                           0.59        90\n",
            "   macro avg       0.32      0.28      0.27        90\n",
            "weighted avg       0.49      0.59      0.51        90\n",
            "\n",
            "\n",
            "SVM (Random):\n",
            "Accuracy: 0.5889\n",
            "              precision    recall  f1-score   support\n",
            "\n",
            "           0       0.69      0.98      0.81        49\n",
            "           1       0.17      0.12      0.14        17\n",
            "           2       0.40      0.20      0.27        10\n",
            "           3       0.33      0.09      0.14        11\n",
            "           4       0.00      0.00      0.00         3\n",
            "\n",
            "    accuracy                           0.59        90\n",
            "   macro avg       0.32      0.28      0.27        90\n",
            "weighted avg       0.49      0.59      0.51        90\n",
            "\n",
            "\n",
            "Random Forest (Grid):\n",
            "Accuracy: 0.5778\n",
            "              precision    recall  f1-score   support\n",
            "\n",
            "           0       0.70      0.98      0.81        49\n",
            "           1       0.00      0.00      0.00        17\n",
            "           2       0.20      0.20      0.20        10\n",
            "           3       0.29      0.18      0.22        11\n",
            "           4       0.00      0.00      0.00         3\n",
            "\n",
            "    accuracy                           0.58        90\n",
            "   macro avg       0.24      0.27      0.25        90\n",
            "weighted avg       0.44      0.58      0.49        90\n",
            "\n",
            "\n",
            "Random Forest (Random):\n"
          ]
        },
        {
          "output_type": "stream",
          "name": "stderr",
          "text": [
            "/usr/local/lib/python3.11/dist-packages/sklearn/metrics/_classification.py:1565: UndefinedMetricWarning: Precision is ill-defined and being set to 0.0 in labels with no predicted samples. Use `zero_division` parameter to control this behavior.\n",
            "  _warn_prf(average, modifier, f\"{metric.capitalize()} is\", len(result))\n",
            "/usr/local/lib/python3.11/dist-packages/sklearn/metrics/_classification.py:1565: UndefinedMetricWarning: Precision is ill-defined and being set to 0.0 in labels with no predicted samples. Use `zero_division` parameter to control this behavior.\n",
            "  _warn_prf(average, modifier, f\"{metric.capitalize()} is\", len(result))\n",
            "/usr/local/lib/python3.11/dist-packages/sklearn/metrics/_classification.py:1565: UndefinedMetricWarning: Precision is ill-defined and being set to 0.0 in labels with no predicted samples. Use `zero_division` parameter to control this behavior.\n",
            "  _warn_prf(average, modifier, f\"{metric.capitalize()} is\", len(result))\n",
            "/usr/local/lib/python3.11/dist-packages/sklearn/metrics/_classification.py:1565: UndefinedMetricWarning: Precision is ill-defined and being set to 0.0 in labels with no predicted samples. Use `zero_division` parameter to control this behavior.\n",
            "  _warn_prf(average, modifier, f\"{metric.capitalize()} is\", len(result))\n",
            "/usr/local/lib/python3.11/dist-packages/sklearn/metrics/_classification.py:1565: UndefinedMetricWarning: Precision is ill-defined and being set to 0.0 in labels with no predicted samples. Use `zero_division` parameter to control this behavior.\n",
            "  _warn_prf(average, modifier, f\"{metric.capitalize()} is\", len(result))\n",
            "/usr/local/lib/python3.11/dist-packages/sklearn/metrics/_classification.py:1565: UndefinedMetricWarning: Precision is ill-defined and being set to 0.0 in labels with no predicted samples. Use `zero_division` parameter to control this behavior.\n",
            "  _warn_prf(average, modifier, f\"{metric.capitalize()} is\", len(result))\n",
            "/usr/local/lib/python3.11/dist-packages/sklearn/metrics/_classification.py:1565: UndefinedMetricWarning: Precision is ill-defined and being set to 0.0 in labels with no predicted samples. Use `zero_division` parameter to control this behavior.\n",
            "  _warn_prf(average, modifier, f\"{metric.capitalize()} is\", len(result))\n",
            "/usr/local/lib/python3.11/dist-packages/sklearn/metrics/_classification.py:1565: UndefinedMetricWarning: Precision is ill-defined and being set to 0.0 in labels with no predicted samples. Use `zero_division` parameter to control this behavior.\n",
            "  _warn_prf(average, modifier, f\"{metric.capitalize()} is\", len(result))\n",
            "/usr/local/lib/python3.11/dist-packages/sklearn/metrics/_classification.py:1565: UndefinedMetricWarning: Precision is ill-defined and being set to 0.0 in labels with no predicted samples. Use `zero_division` parameter to control this behavior.\n",
            "  _warn_prf(average, modifier, f\"{metric.capitalize()} is\", len(result))\n"
          ]
        },
        {
          "output_type": "stream",
          "name": "stdout",
          "text": [
            "Accuracy: 0.5889\n",
            "              precision    recall  f1-score   support\n",
            "\n",
            "           0       0.71      0.96      0.82        49\n",
            "           1       0.25      0.06      0.10        17\n",
            "           2       0.27      0.30      0.29        10\n",
            "           3       0.22      0.18      0.20        11\n",
            "           4       0.00      0.00      0.00         3\n",
            "\n",
            "    accuracy                           0.59        90\n",
            "   macro avg       0.29      0.30      0.28        90\n",
            "weighted avg       0.49      0.59      0.52        90\n",
            "\n",
            "\n",
            "Decision Tree (Grid):\n",
            "Accuracy: 0.5111\n",
            "              precision    recall  f1-score   support\n",
            "\n",
            "           0       0.70      0.80      0.74        49\n",
            "           1       0.19      0.18      0.18        17\n",
            "           2       0.43      0.30      0.35        10\n",
            "           3       0.14      0.09      0.11        11\n",
            "           4       0.00      0.00      0.00         3\n",
            "\n",
            "    accuracy                           0.51        90\n",
            "   macro avg       0.29      0.27      0.28        90\n",
            "weighted avg       0.48      0.51      0.49        90\n",
            "\n",
            "\n",
            "Decision Tree (Random):\n",
            "Accuracy: 0.5667\n",
            "              precision    recall  f1-score   support\n",
            "\n",
            "           0       0.72      0.90      0.80        49\n",
            "           1       0.27      0.18      0.21        17\n",
            "           2       0.43      0.30      0.35        10\n",
            "           3       0.14      0.09      0.11        11\n",
            "           4       0.00      0.00      0.00         3\n",
            "\n",
            "    accuracy                           0.57        90\n",
            "   macro avg       0.31      0.29      0.30        90\n",
            "weighted avg       0.51      0.57      0.53        90\n",
            "\n",
            "\n",
            "Logistic Regression (Grid):\n",
            "Accuracy: 0.6222\n",
            "              precision    recall  f1-score   support\n",
            "\n",
            "           0       0.76      0.96      0.85        49\n",
            "           1       0.30      0.18      0.22        17\n",
            "           2       0.00      0.00      0.00        10\n",
            "           3       0.50      0.55      0.52        11\n",
            "           4       0.00      0.00      0.00         3\n",
            "\n",
            "    accuracy                           0.62        90\n",
            "   macro avg       0.31      0.34      0.32        90\n",
            "weighted avg       0.53      0.62      0.57        90\n",
            "\n",
            "\n",
            "Logistic Regression (Random):\n",
            "Accuracy: 0.6222\n",
            "              precision    recall  f1-score   support\n",
            "\n",
            "           0       0.76      0.96      0.85        49\n",
            "           1       0.30      0.18      0.22        17\n",
            "           2       0.00      0.00      0.00        10\n",
            "           3       0.50      0.55      0.52        11\n",
            "           4       0.00      0.00      0.00         3\n",
            "\n",
            "    accuracy                           0.62        90\n",
            "   macro avg       0.31      0.34      0.32        90\n",
            "weighted avg       0.53      0.62      0.57        90\n",
            "\n"
          ]
        },
        {
          "output_type": "stream",
          "name": "stderr",
          "text": [
            "/usr/local/lib/python3.11/dist-packages/sklearn/metrics/_classification.py:1565: UndefinedMetricWarning: Precision is ill-defined and being set to 0.0 in labels with no predicted samples. Use `zero_division` parameter to control this behavior.\n",
            "  _warn_prf(average, modifier, f\"{metric.capitalize()} is\", len(result))\n",
            "/usr/local/lib/python3.11/dist-packages/sklearn/metrics/_classification.py:1565: UndefinedMetricWarning: Precision is ill-defined and being set to 0.0 in labels with no predicted samples. Use `zero_division` parameter to control this behavior.\n",
            "  _warn_prf(average, modifier, f\"{metric.capitalize()} is\", len(result))\n",
            "/usr/local/lib/python3.11/dist-packages/sklearn/metrics/_classification.py:1565: UndefinedMetricWarning: Precision is ill-defined and being set to 0.0 in labels with no predicted samples. Use `zero_division` parameter to control this behavior.\n",
            "  _warn_prf(average, modifier, f\"{metric.capitalize()} is\", len(result))\n"
          ]
        }
      ]
    },
    {
      "cell_type": "markdown",
      "source": [
        "# Compare with baseline"
      ],
      "metadata": {
        "id": "XNgNS6-oao6R"
      }
    },
    {
      "cell_type": "code",
      "source": [
        "print(\"\\nImprovement over baseline:\")\n",
        "for name, acc in optimized_results.items():\n",
        "    base_name = name.split(' (')[0]\n",
        "    if base_name in baseline_results:\n",
        "        improvement = (acc - baseline_results[base_name]) / baseline_results[base_name] * 100\n",
        "        print(f\"{name}: {improvement:.2f}% improvement over baseline\")"
      ],
      "metadata": {
        "colab": {
          "base_uri": "https://localhost:8080/"
        },
        "id": "CvcRCWrnSSy8",
        "outputId": "d64d28bc-91b8-4453-fb66-d04c7f559d7e"
      },
      "execution_count": 87,
      "outputs": [
        {
          "output_type": "stream",
          "name": "stdout",
          "text": [
            "\n",
            "Improvement over baseline:\n",
            "SVM (Grid): 0.00% improvement over baseline\n",
            "SVM (Random): 0.00% improvement over baseline\n",
            "Random Forest (Grid): 6.12% improvement over baseline\n",
            "Random Forest (Random): 8.16% improvement over baseline\n",
            "Decision Tree (Grid): 12.20% improvement over baseline\n",
            "Decision Tree (Random): 24.39% improvement over baseline\n",
            "Logistic Regression (Grid): -3.45% improvement over baseline\n",
            "Logistic Regression (Random): -3.45% improvement over baseline\n"
          ]
        }
      ]
    }
  ]
}